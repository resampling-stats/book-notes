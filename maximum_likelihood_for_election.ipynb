{
 "cells": [
  {
   "cell_type": "markdown",
   "id": "896b7afa",
   "metadata": {},
   "source": [
    "# Maximum likelihood for election problem"
   ]
  },
  {
   "cell_type": "code",
   "execution_count": 1,
   "id": "c6ebe0db",
   "metadata": {},
   "outputs": [],
   "source": [
    "import numpy as np\n",
    "import scipy.stats as sps\n",
    "\n",
    "rnd = np.random.default_rng()"
   ]
  },
  {
   "cell_type": "markdown",
   "id": "44ab3eb7",
   "metadata": {},
   "source": [
    "Here are the observed counts and percentages for the three candidates (Bush, Perot, Clinton):"
   ]
  },
  {
   "cell_type": "code",
   "execution_count": 2,
   "id": "497ae0b8",
   "metadata": {},
   "outputs": [
    {
     "data": {
      "text/plain": [
       "array([0.383, 0.319, 0.298])"
      ]
     },
     "execution_count": 2,
     "metadata": {},
     "output_type": "execute_result"
    }
   ],
   "source": [
    "sample_votes = np.array([270, 225, 210])\n",
    "n_voters = np.sum(sample_votes)\n",
    "sample_proportions = sample_votes / n_voters\n",
    "# Show the proportions in the sample.\n",
    "np.round(sample_proportions, 3)"
   ]
  },
  {
   "cell_type": "markdown",
   "id": "f2d2882b",
   "metadata": {},
   "source": [
    "We are first interested in all benchmark universes where Bush had less than or equal to the vote proportion of one or other candidate.\n",
    "\n",
    "We collect those — using integers for the percentages:"
   ]
  },
  {
   "cell_type": "code",
   "execution_count": 3,
   "id": "87a5dce0",
   "metadata": {},
   "outputs": [
    {
     "data": {
      "text/plain": [
       "array([[0.  , 0.  , 1.  ],\n",
       "       [0.  , 0.01, 0.99],\n",
       "       [0.  , 0.02, 0.98],\n",
       "       ...,\n",
       "       [0.49, 0.51, 0.  ],\n",
       "       [0.5 , 0.  , 0.5 ],\n",
       "       [0.5 , 0.5 , 0.  ]])"
      ]
     },
     "execution_count": 3,
     "metadata": {},
     "output_type": "execute_result"
    }
   ],
   "source": [
    "# Our benchmark universes are all those where Bush has\n",
    "# <= percent of another candidate.\n",
    "benchmark_universes = []\n",
    "for bush_no in range(0, 51):\n",
    "    remaining = 100 - bush_no\n",
    "    for perot_no in range(0, remaining + 1):\n",
    "        clinton_no = remaining - perot_no\n",
    "        if bush_no <= perot_no or bush_no <= clinton_no:\n",
    "            benchmark_universes.append([bush_no, perot_no, clinton_no])\n",
    "benchmark_universes = np.array(benchmark_universes)\n",
    "# Convert to proportions.\n",
    "benchmark_universes = benchmark_universes / 100\n",
    "benchmark_universes"
   ]
  },
  {
   "cell_type": "markdown",
   "id": "2361b9ef",
   "metadata": {},
   "source": [
    "We can then go through each universe, and ask how likely the observed counts would arise in that universe.  We're interest to find the benchmark universe, among all possible universes, that has is most likely to generate the observed results (counts, percentages).\n",
    "\n",
    "Do this, we could use simulation - taking samples from each universe, repeatedly, to see how often we see the observed counts.  For example, to test the benchmark universe of most immediate interest to us:"
   ]
  },
  {
   "cell_type": "code",
   "execution_count": 4,
   "id": "70a853d0",
   "metadata": {},
   "outputs": [],
   "source": [
    "one_bench_universe = np.array([0.35, 0.35, 0.30])"
   ]
  },
  {
   "cell_type": "markdown",
   "id": "350a5a76",
   "metadata": {},
   "source": [
    "Here we do repeated sampling from the first benchmark universe to see how often\n",
    "that generates the vote totals we saw in the real world."
   ]
  },
  {
   "cell_type": "code",
   "execution_count": 5,
   "id": "81e3c894",
   "metadata": {},
   "outputs": [
    {
     "data": {
      "text/plain": [
       "0.000168"
      ]
     },
     "execution_count": 5,
     "metadata": {},
     "output_type": "execute_result"
    }
   ],
   "source": [
    "# This cell takes about a minute on my laptop.\n",
    "n_same_votes = 0\n",
    "# Lots of samples, because the probability will be very small.\n",
    "n_trials = 1_000_000\n",
    "for i in range(n_trials):\n",
    "    # Draw a sample.\n",
    "    samp = rnd.choice(['Bush', 'Perot', 'Clinton'],\n",
    "                      p=one_bench_universe,\n",
    "                      size=n_voters)\n",
    "    # Calculate vote counts for each candidate.\n",
    "    n_bush = np.sum(samp == 'Bush')\n",
    "    n_perot = np.sum(samp == 'Perot')\n",
    "    n_clinton = np.sum(samp == 'Clinton')\n",
    "    # Collect them to compare to actual vote counts.\n",
    "    n_all = np.array([n_bush, n_perot, n_clinton])\n",
    "    # Are they the same as the actual vote counts?\n",
    "    if np.all(n_all == sample_votes):  # Same as real sample:\n",
    "        n_same_votes = n_same_votes + 1\n",
    "\n",
    "p_same = n_same_votes / n_trials\n",
    "p_same"
   ]
  },
  {
   "cell_type": "markdown",
   "id": "2f483aa4",
   "metadata": {},
   "source": [
    "This is a little time-consuming.  We can use a mathematical short-cut to get this same result, using Scipy's `multinomial` distribution, like this:"
   ]
  },
  {
   "cell_type": "code",
   "execution_count": 6,
   "id": "0106d068",
   "metadata": {},
   "outputs": [
    {
     "data": {
      "text/plain": [
       "0.00015127046361368765"
      ]
     },
     "execution_count": 6,
     "metadata": {},
     "output_type": "execute_result"
    }
   ],
   "source": [
    "# A distribution with the given number of voters and probabilities.\n",
    "mdist = sps.multinomial(n_voters, one_bench_universe)\n",
    "# What is the probability of seeing exactly the observed votes?\n",
    "mdist.pmf([270, 225, 210])"
   ]
  },
  {
   "cell_type": "markdown",
   "id": "44451dab",
   "metadata": {},
   "source": [
    "Notice these two calculations give very similar values, but the multinomial\n",
    "calculation is a) precise - it doesn't depend on randomness and b) much\n",
    "quicker.\n",
    "\n",
    "Notice too that the number we get is very small, because there are so many\n",
    "different vote numbers that could result, so the chances of getting exactly\n",
    "these numbers is small.\n",
    "\n",
    "One way of making sure that the computer doesn't run into trouble with these small numbers is asking for the `logpmf`, which is just the logarithm of the same number you saw above:"
   ]
  },
  {
   "cell_type": "code",
   "execution_count": 7,
   "id": "57e60ac5",
   "metadata": {},
   "outputs": [
    {
     "data": {
      "text/plain": [
       "array(-8.79644117)"
      ]
     },
     "execution_count": 7,
     "metadata": {},
     "output_type": "execute_result"
    }
   ],
   "source": [
    "lpmf = mdist.logpmf([270, 225, 210])\n",
    "lpmf"
   ]
  },
  {
   "cell_type": "markdown",
   "id": "b4e9fbc3",
   "metadata": {},
   "source": [
    "We can convert the logarithm back to the probability by using `np.exp`:"
   ]
  },
  {
   "cell_type": "code",
   "execution_count": 8,
   "id": "406297a8",
   "metadata": {},
   "outputs": [
    {
     "data": {
      "text/plain": [
       "0.00015127046361368765"
      ]
     },
     "execution_count": 8,
     "metadata": {},
     "output_type": "execute_result"
    }
   ],
   "source": [
    "# Convert the log back into the probability, giving the same\n",
    "# answer as above.\n",
    "np.exp(lpmf)"
   ]
  },
  {
   "cell_type": "markdown",
   "id": "b816c88f",
   "metadata": {},
   "source": [
    "Using the logarithm instead of the original probability helps by keeping the\n",
    "numbers from getting so small that the computer will struggle to make accurate\n",
    "calculations, while keeping the numbers comparable.  If the original\n",
    "probability is greater than another probability for a different benchmark\n",
    "universe, the logarithm is also greater."
   ]
  },
  {
   "cell_type": "markdown",
   "id": "566d1234",
   "metadata": {},
   "source": [
    "We can then get the `logpmf` calculation for all our proposed benchmark\n",
    "universes. The benchmark universe with the highest `logpmf` is also the\n",
    "benchmark universe with the highest probability of giving the exact observed\n",
    "vote counts from the sample."
   ]
  },
  {
   "cell_type": "code",
   "execution_count": 9,
   "id": "a929a374",
   "metadata": {},
   "outputs": [],
   "source": [
    "n_benchmark_universes = len(benchmark_universes)\n",
    "bench_universe_logp_obs = np.zeros(n_benchmark_universes)\n",
    "for i in np.arange(n_benchmark_universes):\n",
    "    # Multinomial distribution.\n",
    "    mdist = sps.multinomial(n_voters, benchmark_universes[i])\n",
    "    # How likely are the observed numbers, if benchmark holds.\n",
    "    bench_universe_logp_obs[i] = mdist.logpmf([270, 225, 210])"
   ]
  },
  {
   "cell_type": "markdown",
   "id": "3defa3c0",
   "metadata": {},
   "source": [
    "The largest log probability:"
   ]
  },
  {
   "cell_type": "code",
   "execution_count": 10,
   "id": "b85ae975",
   "metadata": {},
   "outputs": [
    {
     "data": {
      "text/plain": [
       "-8.796441173585663"
      ]
     },
     "execution_count": 10,
     "metadata": {},
     "output_type": "execute_result"
    }
   ],
   "source": [
    "np.max(bench_universe_logp_obs)"
   ]
  },
  {
   "cell_type": "code",
   "execution_count": 11,
   "id": "979ffcc4",
   "metadata": {},
   "outputs": [
    {
     "data": {
      "text/plain": [
       "-8.796441173585663"
      ]
     },
     "execution_count": 11,
     "metadata": {},
     "output_type": "execute_result"
    }
   ],
   "source": [
    "# The corresponding index position of the maximum.\n",
    "index = np.argmax(bench_universe_logp_obs)\n",
    "# So this will give us the maximum again.\n",
    "bench_universe_logp_obs[index]"
   ]
  },
  {
   "cell_type": "code",
   "execution_count": 12,
   "id": "72fa6d0c",
   "metadata": {},
   "outputs": [
    {
     "data": {
      "text/plain": [
       "array([0.35, 0.35, 0.3 ])"
      ]
     },
     "execution_count": 12,
     "metadata": {},
     "output_type": "execute_result"
    }
   ],
   "source": [
    "# The benchmark universe (triplet of proportions) most likely to generate\n",
    "# the observed vote totals:\n",
    "benchmark_universes[index]"
   ]
  },
  {
   "cell_type": "markdown",
   "id": "b66a39da",
   "metadata": {},
   "source": [
    "So the [0.35, 0.35, 0.3] benchmark universe is the one most compatible with the observed votes, while still having Bush less than or equal to another candidate."
   ]
  }
 ],
 "metadata": {
  "jupytext": {
   "notebook_metadata_filter": "all,-language_info",
   "split_at_heading": true
  },
  "kernelspec": {
   "display_name": "Python 3 (ipykernel)",
   "language": "python",
   "name": "python3"
  },
  "language_info": {
   "codemirror_mode": {
    "name": "ipython",
    "version": 3
   },
   "file_extension": ".py",
   "mimetype": "text/x-python",
   "name": "python",
   "nbconvert_exporter": "python",
   "pygments_lexer": "ipython3",
   "version": "3.11.8"
  }
 },
 "nbformat": 4,
 "nbformat_minor": 5
}
